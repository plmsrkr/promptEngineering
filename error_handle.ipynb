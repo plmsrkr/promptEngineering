{
 "cells": [
  {
   "cell_type": "markdown",
   "metadata": {},
   "source": [
    "#### CellStrat Prompt Engineering for Generative AI - Module 2 : Applications Of Prompt Engineering\n"
   ]
  },
  {
   "cell_type": "code",
   "execution_count": 5,
   "metadata": {},
   "outputs": [],
   "source": [
    "import google.generativeai as genai\n",
    "import textwrap\n",
    "\n",
    "import google.generativeai as genai\n",
    "import yaml\n",
    "from yaml import SafeLoader\n",
    "\n",
    "import os\n",
    "from dotenv import load_dotenv\n",
    "\n",
    "from IPython.display import display\n",
    "from IPython.display import Markdown\n",
    "from google.api_core import retry, exceptions\n",
    "from google.api_core import retry\n"
   ]
  },
  {
   "cell_type": "code",
   "execution_count": 2,
   "metadata": {},
   "outputs": [],
   "source": [
    "load_dotenv()\n",
    "GOOGLE_API_KEY = os.getenv('GOOGLE_API_KEY')\n",
    "genai.configure(api_key=GOOGLE_API_KEY)"
   ]
  },
  {
   "cell_type": "code",
   "execution_count": 3,
   "metadata": {},
   "outputs": [],
   "source": [
    "model = genai.GenerativeModel('models/gemini-1.5-flash')\n"
   ]
  },
  {
   "cell_type": "code",
   "execution_count": 7,
   "metadata": {},
   "outputs": [
    {
     "data": {
      "text/plain": [
       "response:\n",
       "GenerateContentResponse(\n",
       "    done=True,\n",
       "    iterator=None,\n",
       "    result=protos.GenerateContentResponse({\n",
       "      \"candidates\": [\n",
       "        {\n",
       "          \"content\": {\n",
       "            \"parts\": [\n",
       "              {\n",
       "                \"text\": \"The backpack was old, worn leather that creaked like a rusty hinge. Found tucked away in the dusty attic of her grandmother\\u2019s house, Elara had always been drawn to it. It seemed to hum with a low, quiet energy, a whisper of something magical. \\n\\nHer grandmother, a woman with eyes like distant stars, had only smiled enigmatically when Elara asked about it. \\\"It's a keeper, child,\\\" she\\u2019d said, her voice a soft rustle of leaves. \\\"A friend for adventures.\\\"\\n\\nElara, ever the curious one, was determined to discover its secret. She tried everything - poking, prodding, even whispering spells she'd found in a dusty book. Nothing. But the backpack always felt warm to the touch, a comforting weight on her shoulder.\\n\\nOne day, while walking through the bustling marketplace, Elara stumbled upon a sight that made her heart leap. A tiny, silver bird, its feathers shimmering like moonlight, was trapped in a woven cage. The merchant, a gruff man with eyes like obsidian, demanded a hefty price. \\n\\nElara, ever the animal lover, couldn't bear to see the bird\\u2019s distress. But her meager savings wouldn't even cover a fraction of the cost. Desperate, she remembered the backpack. \\n\\nWith a shaky breath, she unzipped it. Inside, nestled amongst the worn lining, was a single, smooth, white pebble. Elara picked it up, her heart pounding. Suddenly, a rush of warmth enveloped her, and the pebble pulsed with a soft light. It seemed to whisper, \\\"Make a wish.\\\"\\n\\nElara, with a newfound certainty, wished for the freedom of the silver bird. She placed the pebble on the ground, and a blinding flash erupted. When the light faded, the bird was gone, the cage empty. \\n\\nThe merchant, dumbfounded, swore it was a trick. But Elara knew the truth. The backpack, her grandmother\\u2019s gift, was a vessel of wishes. It wasn't about the objects it held, but the magic that flowed through it, fueled by the pure intentions of its owner.\\n\\nFrom that day on, Elara carried the backpack everywhere. It became her companion, her confidante. It didn\\u2019t just grant wishes, it amplified the good in her heart. It helped her reunite lost dogs with their owners, soothe the lonely, and brighten the lives of those around her.\\n\\nAs years passed, Elara realized the backpack wasn\\u2019t just a magical tool. It was a reminder that even the smallest act of kindness could have a ripple effect, that magic lived in the hearts of those who dared to believe. And as she traveled the world, spreading joy and wonder wherever she went, the creaky, worn backpack became a symbol of her own unique brand of magic, one that was fueled by love, hope, and the power of a wish. \\n\"\n",
       "              }\n",
       "            ],\n",
       "            \"role\": \"model\"\n",
       "          },\n",
       "          \"finish_reason\": \"STOP\",\n",
       "          \"index\": 0,\n",
       "          \"safety_ratings\": [\n",
       "            {\n",
       "              \"category\": \"HARM_CATEGORY_SEXUALLY_EXPLICIT\",\n",
       "              \"probability\": \"NEGLIGIBLE\"\n",
       "            },\n",
       "            {\n",
       "              \"category\": \"HARM_CATEGORY_HATE_SPEECH\",\n",
       "              \"probability\": \"NEGLIGIBLE\"\n",
       "            },\n",
       "            {\n",
       "              \"category\": \"HARM_CATEGORY_HARASSMENT\",\n",
       "              \"probability\": \"NEGLIGIBLE\"\n",
       "            },\n",
       "            {\n",
       "              \"category\": \"HARM_CATEGORY_DANGEROUS_CONTENT\",\n",
       "              \"probability\": \"NEGLIGIBLE\"\n",
       "            }\n",
       "          ]\n",
       "        }\n",
       "      ],\n",
       "      \"usage_metadata\": {\n",
       "        \"prompt_token_count\": 9,\n",
       "        \"candidates_token_count\": 601,\n",
       "        \"total_token_count\": 610\n",
       "      }\n",
       "    }),\n",
       ")"
      ]
     },
     "execution_count": 7,
     "metadata": {},
     "output_type": "execute_result"
    }
   ],
   "source": [
    "# Automatic retry\n",
    "model = genai.GenerativeModel(\"gemini-1.5-flash-latest\")\n",
    "prompt = \"Write a story about a magic backpack.\"\n",
    "\n",
    "model.generate_content(\n",
    "    prompt, request_options={\"retry\": retry.Retry(predicate=retry.if_transient_error)}\n",
    ")"
   ]
  },
  {
   "cell_type": "markdown",
   "metadata": {},
   "source": [
    "Manually increase timeout when responses take time\n",
    "If you encounter ReadTimeout or DeadlineExceeded errors, meaning an API call exceeds the default timeout (600 seconds), you can manually adjust it by defining timeout in the request_options argument."
   ]
  },
  {
   "cell_type": "code",
   "execution_count": 8,
   "metadata": {},
   "outputs": [
    {
     "data": {
      "text/plain": [
       "response:\n",
       "GenerateContentResponse(\n",
       "    done=True,\n",
       "    iterator=None,\n",
       "    result=protos.GenerateContentResponse({\n",
       "      \"candidates\": [\n",
       "        {\n",
       "          \"content\": {\n",
       "            \"parts\": [\n",
       "              {\n",
       "                \"text\": \"Elara, a girl with eyes the color of storm clouds and a spirit as wild as the wind, lived in a village nestled in the foothills of a mountain range that whispered ancient secrets. Elara dreamt of exploring the world, of seeing beyond the familiar faces and the worn paths of her home. But her family was poor, and travel was a luxury they couldn't afford.\\n\\nOne day, rummaging through her grandmother's attic, Elara stumbled upon a dusty, leather backpack tucked away in a forgotten corner. It was intricately woven with silver thread, depicting fantastical creatures that seemed to shimmer with life. As Elara reached for it, a sudden gust of wind swept through the attic, causing a lamp to topple over and illuminate the backpack in a peculiar glow.\\n\\nIntrigued, Elara strapped the backpack on. It felt strangely warm against her back, and a faint hum resonated within it. As she walked outside, she noticed something peculiar. The path leading out of the village, usually bustling with villagers, was deserted. In its place, a shimmering, emerald green path appeared, winding its way up the mountain.\\n\\nHesitantly, Elara followed the path. It felt alive, pulsing with energy beneath her feet. With each step, the air grew thinner, the air cleaner, and the world around her transformed. She saw vibrant flowers that bloomed in impossible colors, heard the song of birds she'd never known, and felt the wind whisper secrets only she could hear.\\n\\nThe backpack, she realized, was magical. It held within it the power to transport her to wondrous places, to show her the world she dreamt of exploring. Over the next few weeks, Elara traversed the mountains, each journey a new adventure. She walked among the towering redwoods of a forgotten forest, swam in crystal-clear lakes hidden in the heart of the mountains, and even climbed to the peak of a snow-capped mountain, where she saw a world bathed in the golden light of the setting sun.\\n\\nBut with each adventure, Elara felt a growing unease. She missed her family, the familiar faces, the comforting scent of her village. The magic of the backpack, though wondrous, was isolating. She realized that the world was best experienced not just with her own eyes, but with the shared wonder of those she loved.\\n\\nOne evening, Elara returned to the village, the backpack still warm against her back. She saw her family huddled together, their faces etched with worry. They had searched for her, fearing the worst.  Elara pulled the backpack off, and as she did, the emerald path vanished, replaced by the familiar, dusty road.\\n\\nFrom that day forward, Elara kept the backpack, but she used its magic sparingly. She shared her experiences with her family, filling their lives with stories of wondrous lands and fantastical creatures. She learned that the greatest adventures weren't just about seeing the world, but about sharing it with those you loved, and that the true magic lay not in the backpack, but in the love and companionship she found within her village. \\n\"\n",
       "              }\n",
       "            ],\n",
       "            \"role\": \"model\"\n",
       "          },\n",
       "          \"finish_reason\": \"STOP\",\n",
       "          \"index\": 0,\n",
       "          \"safety_ratings\": [\n",
       "            {\n",
       "              \"category\": \"HARM_CATEGORY_SEXUALLY_EXPLICIT\",\n",
       "              \"probability\": \"LOW\"\n",
       "            },\n",
       "            {\n",
       "              \"category\": \"HARM_CATEGORY_HATE_SPEECH\",\n",
       "              \"probability\": \"NEGLIGIBLE\"\n",
       "            },\n",
       "            {\n",
       "              \"category\": \"HARM_CATEGORY_HARASSMENT\",\n",
       "              \"probability\": \"NEGLIGIBLE\"\n",
       "            },\n",
       "            {\n",
       "              \"category\": \"HARM_CATEGORY_DANGEROUS_CONTENT\",\n",
       "              \"probability\": \"NEGLIGIBLE\"\n",
       "            }\n",
       "          ]\n",
       "        }\n",
       "      ],\n",
       "      \"usage_metadata\": {\n",
       "        \"prompt_token_count\": 9,\n",
       "        \"candidates_token_count\": 637,\n",
       "        \"total_token_count\": 646\n",
       "      }\n",
       "    }),\n",
       ")"
      ]
     },
     "execution_count": 8,
     "metadata": {},
     "output_type": "execute_result"
    }
   ],
   "source": [
    "model = genai.GenerativeModel(\"gemini-1.5-flash-latest\")\n",
    "prompt = \"Write a story about a magic backpack.\"\n",
    "\n",
    "model.generate_content(\n",
    "    prompt, request_options={\"timeout\": 90}\n",
    ")  # Increase timeout to  90 sec"
   ]
  },
  {
   "cell_type": "markdown",
   "metadata": {},
   "source": [
    "# Manual Implementation"
   ]
  },
  {
   "cell_type": "code",
   "execution_count": 9,
   "metadata": {},
   "outputs": [
    {
     "data": {
      "text/plain": [
       "response:\n",
       "GenerateContentResponse(\n",
       "    done=True,\n",
       "    iterator=None,\n",
       "    result=protos.GenerateContentResponse({\n",
       "      \"candidates\": [\n",
       "        {\n",
       "          \"content\": {\n",
       "            \"parts\": [\n",
       "              {\n",
       "                \"text\": \"## Carry more than you ever thought possible. Introducing the Magic Backpack! \\ud83c\\udf92\\u2728 \\n\"\n",
       "              }\n",
       "            ],\n",
       "            \"role\": \"model\"\n",
       "          },\n",
       "          \"finish_reason\": \"STOP\",\n",
       "          \"index\": 0,\n",
       "          \"safety_ratings\": [\n",
       "            {\n",
       "              \"category\": \"HARM_CATEGORY_SEXUALLY_EXPLICIT\",\n",
       "              \"probability\": \"NEGLIGIBLE\"\n",
       "            },\n",
       "            {\n",
       "              \"category\": \"HARM_CATEGORY_HATE_SPEECH\",\n",
       "              \"probability\": \"NEGLIGIBLE\"\n",
       "            },\n",
       "            {\n",
       "              \"category\": \"HARM_CATEGORY_HARASSMENT\",\n",
       "              \"probability\": \"NEGLIGIBLE\"\n",
       "            },\n",
       "            {\n",
       "              \"category\": \"HARM_CATEGORY_DANGEROUS_CONTENT\",\n",
       "              \"probability\": \"NEGLIGIBLE\"\n",
       "            }\n",
       "          ]\n",
       "        }\n",
       "      ],\n",
       "      \"usage_metadata\": {\n",
       "        \"prompt_token_count\": 11,\n",
       "        \"candidates_token_count\": 17,\n",
       "        \"total_token_count\": 28\n",
       "      }\n",
       "    }),\n",
       ")"
      ]
     },
     "execution_count": 9,
     "metadata": {},
     "output_type": "execute_result"
    }
   ],
   "source": [
    "\n",
    "model = genai.GenerativeModel(\"gemini-1.5-flash-latest\")\n",
    "\n",
    "\n",
    "@retry.Retry(\n",
    "    predicate=retry.if_transient_error,\n",
    "    initial=2.0,\n",
    "    maximum=64.0,\n",
    "    multiplier=2.0,\n",
    "    timeout=600,\n",
    ")\n",
    "def generate_with_retry(model, prompt):\n",
    "    response = model.generate_content(prompt)\n",
    "    return response\n",
    "\n",
    "\n",
    "prompt = \"Write a one-liner advertisement for magic backpack.\"\n",
    "\n",
    "generate_with_retry(model=model, prompt=prompt)"
   ]
  },
  {
   "cell_type": "markdown",
   "metadata": {},
   "source": [
    "# Test the error handling with retry mechanism\n",
    "- To validate that your error handling and retry mechanism work as intended, define a generate_content function that deliberately raises a ServiceUnavailable error on the first call. This setup will help you ensure that the retry decorator successfully handles the transient error and retries the operation."
   ]
  },
  {
   "cell_type": "code",
   "execution_count": 10,
   "metadata": {},
   "outputs": [
    {
     "name": "stdout",
     "output_type": "stream",
     "text": [
      "Error: 503 Service Unavailable\n"
     ]
    },
    {
     "data": {
      "text/plain": [
       "'**Carry your world, not the weight of it.** (with an image of the magic backpack) \\n'"
      ]
     },
     "execution_count": 10,
     "metadata": {},
     "output_type": "execute_result"
    }
   ],
   "source": [
    "from google.api_core import retry, exceptions\n",
    "\n",
    "\n",
    "@retry.Retry(\n",
    "    predicate=retry.if_transient_error,\n",
    "    initial=2.0,\n",
    "    maximum=64.0,\n",
    "    multiplier=2.0,\n",
    "    timeout=600,\n",
    ")\n",
    "def generate_content_first_fail(model, prompt):\n",
    "    if not hasattr(generate_content_first_fail, \"call_counter\"):\n",
    "        generate_content_first_fail.call_counter = 0\n",
    "\n",
    "    generate_content_first_fail.call_counter += 1\n",
    "\n",
    "    try:\n",
    "        if generate_content_first_fail.call_counter == 1:\n",
    "            raise exceptions.ServiceUnavailable(\"Service Unavailable\")\n",
    "\n",
    "        response = model.generate_content(prompt)\n",
    "        return response.text\n",
    "    except exceptions.ServiceUnavailable as e:\n",
    "        print(f\"Error: {e}\")\n",
    "        raise\n",
    "\n",
    "\n",
    "model = genai.GenerativeModel(\"gemini-1.5-flash-latest\")\n",
    "prompt = \"Write a one-liner advertisement for magic backpack.\"\n",
    "\n",
    "generate_content_first_fail(model=model, prompt=prompt)\n",
    "     "
   ]
  }
 ],
 "metadata": {
  "kernelspec": {
   "display_name": "venv",
   "language": "python",
   "name": "python3"
  },
  "language_info": {
   "codemirror_mode": {
    "name": "ipython",
    "version": 3
   },
   "file_extension": ".py",
   "mimetype": "text/x-python",
   "name": "python",
   "nbconvert_exporter": "python",
   "pygments_lexer": "ipython3",
   "version": "3.11.9"
  }
 },
 "nbformat": 4,
 "nbformat_minor": 2
}
