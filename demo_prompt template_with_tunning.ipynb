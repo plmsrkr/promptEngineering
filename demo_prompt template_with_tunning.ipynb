{
 "cells": [
  {
   "cell_type": "markdown",
   "metadata": {},
   "source": [
    "#### CellStrat Prompt Engineering for Generative AI - Module 2 : Applications Of Prompt Engineering\n",
    "\n",
    "This notebook demonstrates prompt fine tunning for supply chain domain and provides prompt templates for real business applications"
   ]
  },
  {
   "cell_type": "code",
   "execution_count": 1,
   "metadata": {},
   "outputs": [
    {
     "name": "stderr",
     "output_type": "stream",
     "text": [
      "c:\\Users\\Poulami\\Desktop\\Prompt Engg\\PromptTemp\\venv\\Lib\\site-packages\\tqdm\\auto.py:21: TqdmWarning: IProgress not found. Please update jupyter and ipywidgets. See https://ipywidgets.readthedocs.io/en/stable/user_install.html\n",
      "  from .autonotebook import tqdm as notebook_tqdm\n"
     ]
    }
   ],
   "source": [
    "import textwrap\n",
    "\n",
    "import google.generativeai as genai\n",
    "import yaml\n",
    "from yaml import SafeLoader\n",
    "\n",
    "import os\n",
    "from dotenv import load_dotenv\n",
    "\n",
    "from IPython.display import display\n",
    "from IPython.display import Markdown"
   ]
  },
  {
   "cell_type": "code",
   "execution_count": 2,
   "metadata": {},
   "outputs": [],
   "source": [
    "def to_markdown(text):\n",
    "  text = text.replace('•', '  *')\n",
    "  return Markdown(textwrap.indent(text, '> ', predicate=lambda _: True))"
   ]
  },
  {
   "cell_type": "code",
   "execution_count": 3,
   "metadata": {},
   "outputs": [],
   "source": [
    "load_dotenv()\n",
    "GOOGLE_API_KEY = os.getenv('GOOGLE_API_KEY')\n",
    "genai.configure(api_key=GOOGLE_API_KEY)"
   ]
  },
  {
   "cell_type": "code",
   "execution_count": 4,
   "metadata": {},
   "outputs": [],
   "source": [
    "prompt = '''**Task:** Classify the following text into one of the following categories:\n",
    "A: {A} \n",
    "B: {B} \n",
    "C: {C} \n",
    "**Text:** {text}\n",
    "\n",
    "**Please select the most appropriate category.**\n",
    "'''"
   ]
  },
  {
   "cell_type": "code",
   "execution_count": 6,
   "metadata": {},
   "outputs": [],
   "source": [
    " # Read the prompt template\n",
    "with open(r\"yaml/prompt.yaml\", \"r\") as f:\n",
    "    template = f.read()"
   ]
  },
  {
   "cell_type": "code",
   "execution_count": 7,
   "metadata": {},
   "outputs": [],
   "source": [
    "# Fill placeholders with data\n",
    "def classify_text(template,text, options, model_name=\"gemini-pro\"):\n",
    "  \"\"\"\n",
    "  Classifies text using a formatted prompt and Gemini Pro model.\n",
    "\n",
    "  Args:\n",
    "      text: The text to be classified.\n",
    "      options: A dictionary containing classification options (A, B, C, etc.).\n",
    "      model_name: The name of the Gemini Pro model (defaults to \"gemini-pro\").\n",
    "\n",
    "  Returns:\n",
    "      The predicted category (A, B, C, etc.).\n",
    "  \"\"\"\n",
    "\n",
    "#   # Configure the API key\n",
    "#   genai.configure(api_key=api_key)\n",
    "\n",
    "  # Build the prompt with formatted options\n",
    "\n",
    "  #prompt = prompt.format(text=text, **options)\n",
    "  prompt = template.format(text=text, **options)\n",
    "  print(prompt) \n",
    "  # Create the GenerativeModel object\n",
    "  model = genai.GenerativeModel('gemini-1.0-pro')\n",
    "\n",
    "  # Generate the content (classification response)\n",
    "  response = model.generate_content(prompt)\n",
    "\n",
    "  # Extract the predicted category (assuming format \"Predicted category: X\")\n",
    "  predicted_category = response.text.split(\": \")[-1].strip()\n",
    "  #predicted_category = response\n",
    "  return predicted_category"
   ]
  },
  {
   "cell_type": "code",
   "execution_count": 8,
   "metadata": {},
   "outputs": [
    {
     "name": "stdout",
     "output_type": "stream",
     "text": [
      "prompt = '''**Task:** Classify the following text into one of the following categories:\n",
      "A: Sports \n",
      "B: Outdoors \n",
      "C: Weather \n",
      "**Text:** It is sunny today\n",
      "#**Constraint: Do not predict anything other than the options provided, if none of it matches return the word None** \n",
      "#**Explanation: Return appropriate category with explanation on why a category has been chosen**\n",
      "** Return an appropriate category**\n",
      "\n",
      "'''\n",
      "Predicted Category: Weather**\n",
      "**Explanation:** The text \"It is sunny today\" describes a weather condition, which is a characteristic of the weather category.\n"
     ]
    }
   ],
   "source": [
    "#text = \"Sunny side up is a good recipe\"\n",
    "text = \"It is sunny today\"\n",
    "options = {\"A\": \"Sports\", \"B\": \"Outdoors\", \"C\": \"Weather\"}\n",
    "\n",
    "predicted_category = classify_text(template,text, options)\n",
    "\n",
    "print(f\"Predicted Category: {predicted_category}\")"
   ]
  },
  {
   "cell_type": "code",
   "execution_count": 9,
   "metadata": {},
   "outputs": [],
   "source": [
    "### Real example template###\n",
    "cs_prompt='''**Task:**Given an email containing email body and email subject classify the following text into one of the following categories:\n",
    "{cat_names}\n",
    "**The category descriptions are as follows:{category_descriptions} \n",
    "**Text:** {text}\n",
    "#**Constraint: Return only the category name.Do not predict anything other than the options provided, if none of it matches return the word None** \n",
    "**Explanation: Return appropriate category from the above list with explanation on why a category has been chosen**'''\n"
   ]
  },
  {
   "cell_type": "code",
   "execution_count": 11,
   "metadata": {},
   "outputs": [],
   "source": [
    "with open(r\"yaml/order_prompt_template.yaml\", \"r\") as f:\n",
    "    order_template = f.read()"
   ]
  },
  {
   "cell_type": "code",
   "execution_count": 16,
   "metadata": {},
   "outputs": [],
   "source": [
    "def classify_text_real(template,email, cat_names,category_description, model_name=\"gemini-1.0-pro\"):\n",
    "  \"\"\"\n",
    "  Classifies text using a formatted prompt and Gemini Pro model.\n",
    "\n",
    "  Args:\n",
    "      text: The text to be classified.\n",
    "      options: A dictionary containing classification options (A, B, C, etc.).\n",
    "      model_name: The name of the Gemini Pro model (defaults to \"gemini-pro\").\n",
    "\n",
    "  Returns:\n",
    "      The predicted category (A, B, C, etc.).\n",
    "  \"\"\"\n",
    "\n",
    "\n",
    "  # Build the prompt with formatted options\n",
    "\n",
    "  prompt=cs_prompt.format(text=email,cat_names=cat_names,category_descriptions=category_description)\n",
    "  #print(prompt) \n",
    "  # Create the GenerativeModel object\n",
    "  model = genai.GenerativeModel(model_name)\n",
    "\n",
    "  # Generate the content (classification response)\n",
    "  response = model.generate_content(prompt)\n",
    "\n",
    "  # Extract the predicted category (assuming format \"Predicted category: X\")\n",
    "  predicted_category = response.text.split(\": \")[-1].strip()\n",
    "  #predicted_category = response\n",
    "  return predicted_category"
   ]
  },
  {
   "cell_type": "code",
   "execution_count": 12,
   "metadata": {},
   "outputs": [],
   "source": [
    "with open(\"config/category_refined.yaml\", \"r\") as f:\n",
    "    cat_details = yaml.load(f,Loader=SafeLoader)"
   ]
  },
  {
   "cell_type": "code",
   "execution_count": 13,
   "metadata": {},
   "outputs": [],
   "source": [
    "cat_names=cat_details['categories']\n",
    "category_description=cat_details['category_description']"
   ]
  },
  {
   "cell_type": "code",
   "execution_count": 14,
   "metadata": {},
   "outputs": [],
   "source": [
    "with open(r'examples\\order_discrepancy.txt') as f:\n",
    "    email = f.readlines()"
   ]
  },
  {
   "cell_type": "code",
   "execution_count": 17,
   "metadata": {},
   "outputs": [
    {
     "data": {
      "text/plain": [
       "'order discrepancy\\nThe text is about a customer who received a shipment of table cloths that had black streaks along the outer edges. The customer is returning the entire shipment and requesting a credit for the cost of the order plus shipping and handling. This is an example of an order discrepancy because the customer is reporting a problem with the order.'"
      ]
     },
     "execution_count": 17,
     "metadata": {},
     "output_type": "execute_result"
    }
   ],
   "source": [
    "classify_text_real(order_template,email, cat_names,category_description)"
   ]
  }
 ],
 "metadata": {
  "kernelspec": {
   "display_name": "venv",
   "language": "python",
   "name": "python3"
  },
  "language_info": {
   "codemirror_mode": {
    "name": "ipython",
    "version": 3
   },
   "file_extension": ".py",
   "mimetype": "text/x-python",
   "name": "python",
   "nbconvert_exporter": "python",
   "pygments_lexer": "ipython3",
   "version": "3.11.9"
  }
 },
 "nbformat": 4,
 "nbformat_minor": 2
}
