{
 "cells": [
  {
   "cell_type": "markdown",
   "metadata": {},
   "source": [
    "#### CellStrat Prompt Engineering for Generative AI - Module 2 : Applications Of Prompt Engineering\n"
   ]
  },
  {
   "cell_type": "code",
   "execution_count": 7,
   "metadata": {},
   "outputs": [],
   "source": [
    "import textwrap\n",
    "\n",
    "import google.generativeai as genai\n",
    "import yaml\n",
    "from yaml import SafeLoader\n",
    "\n",
    "import os\n",
    "from dotenv import load_dotenv\n",
    "\n",
    "from IPython.display import display\n",
    "from IPython.display import Markdown"
   ]
  },
  {
   "cell_type": "code",
   "execution_count": 8,
   "metadata": {},
   "outputs": [],
   "source": [
    "# summarization demo\n",
    "load_dotenv()\n",
    "GOOGLE_API_KEY = os.getenv('GOOGLE_API_KEY')\n",
    "genai.configure(api_key=GOOGLE_API_KEY)"
   ]
  },
  {
   "cell_type": "code",
   "execution_count": 9,
   "metadata": {},
   "outputs": [],
   "source": [
    "def summarize_text(text, model_name=\"gemini-1.0-pro\"):\n",
    "  \"\"\"\n",
    "  Summarizes text using a formatted prompt and Gemini Pro model.\n",
    "\n",
    "  Args:\n",
    "      text: The text to be summarized.\n",
    "      model_name: The name of the Gemini Pro model (defaults to \"gemini-pro\").\n",
    "\n",
    "  Returns:\n",
    "      A string containing the summarized text.\n",
    "  \"\"\"\n",
    "\n",
    "  \n",
    "  # Read the prompt template\n",
    "  # with open(\"yaml/summary.yaml\", \"r\") as f:\n",
    "  #   template = f.read()\n",
    "  with open(\"yaml/summary_refined.yaml\", \"r\") as f:\n",
    "      template = f.read()\n",
    "\n",
    "  # Fill the placeholder with text\n",
    "  prompt = template.format(text=text, model_name=model_name)\n",
    "  #print(prompt)\n",
    "  # Create the GenerativeModel object\n",
    "  model = genai.GenerativeModel('gemini-1.0-pro')\n",
    "\n",
    "  # Generate the content (summary)\n",
    "  response = model.generate_content(prompt)\n",
    "\n",
    "  # Extract the summary text from the response\n",
    "  summary = response.text.strip()\n",
    "  #print(summary)\n",
    "  return summary\n"
   ]
  },
  {
   "cell_type": "code",
   "execution_count": 10,
   "metadata": {},
   "outputs": [
    {
     "name": "stdout",
     "output_type": "stream",
     "text": [
      "Summary Text: **Pros:**\n",
      "- Arrived early\n",
      "- Soft, cute, and friendly design\n",
      "\n",
      "**Cons:**\n",
      "- Smaller than expected for the price\n"
     ]
    }
   ],
   "source": [
    "text = '''Got this panda plush toy for my daughter's birthday, \n",
    "who loves it and takes it everywhere. It's soft and \n",
    "super cute, and its face has a friendly look. It's  \n",
    "a bit small for what I paid though. I think there  \n",
    "might be other options that are bigger for the \n",
    "same price. It arrived a day earlier than expected,  \n",
    "so I got to play with it myself before I gave it \n",
    "to her.'''\n",
    "\n",
    "summary = summarize_text(text)\n",
    "\n",
    "#print(\"Original Text:\", text)\n",
    "print(\"Summary Text:\", summary)"
   ]
  }
 ],
 "metadata": {
  "kernelspec": {
   "display_name": "venv",
   "language": "python",
   "name": "python3"
  },
  "language_info": {
   "codemirror_mode": {
    "name": "ipython",
    "version": 3
   },
   "file_extension": ".py",
   "mimetype": "text/x-python",
   "name": "python",
   "nbconvert_exporter": "python",
   "pygments_lexer": "ipython3",
   "version": "3.11.9"
  }
 },
 "nbformat": 4,
 "nbformat_minor": 2
}
