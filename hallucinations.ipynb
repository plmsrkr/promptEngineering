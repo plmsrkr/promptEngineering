{
 "cells": [
  {
   "cell_type": "code",
   "execution_count": 3,
   "metadata": {},
   "outputs": [
    {
     "name": "stderr",
     "output_type": "stream",
     "text": [
      "c:\\Users\\Poulami\\Desktop\\Prompt Engg\\PromptTemp\\venv\\Lib\\site-packages\\tqdm\\auto.py:21: TqdmWarning: IProgress not found. Please update jupyter and ipywidgets. See https://ipywidgets.readthedocs.io/en/stable/user_install.html\n",
      "  from .autonotebook import tqdm as notebook_tqdm\n"
     ]
    }
   ],
   "source": [
    "import textwrap\n",
    "\n",
    "import google.generativeai as genai\n",
    "import yaml\n",
    "from yaml import SafeLoader\n",
    "\n",
    "import os\n",
    "from dotenv import load_dotenv\n",
    "\n",
    "from IPython.display import display\n",
    "from IPython.display import Markdown"
   ]
  },
  {
   "cell_type": "code",
   "execution_count": 4,
   "metadata": {},
   "outputs": [],
   "source": [
    "# summarization demo\n",
    "load_dotenv()\n",
    "GOOGLE_API_KEY = os.getenv('GOOGLE_API_KEY')\n",
    "genai.configure(api_key=GOOGLE_API_KEY)"
   ]
  },
  {
   "cell_type": "code",
   "execution_count": 28,
   "metadata": {},
   "outputs": [
    {
     "name": "stdout",
     "output_type": "stream",
     "text": [
      "**Winner:** Marc Girardelli (Luxembourg)\n",
      "\n",
      "**Location:** Bormio, Italy\n"
     ]
    }
   ],
   "source": [
    "prompt = \"who won FIS Alpine championship in 1985 where was it held\"\n",
    "model = genai.GenerativeModel('gemini-1.0-pro')\n",
    "response = model.generate_content(prompt)\n",
    "print(response.text)"
   ]
  },
  {
   "cell_type": "markdown",
   "metadata": {},
   "source": [
    "# Self Consistency"
   ]
  },
  {
   "cell_type": "code",
   "execution_count": 45,
   "metadata": {},
   "outputs": [
    {
     "name": "stdout",
     "output_type": "stream",
     "text": [
      "response 2  Pirmin Zurbriggen (Switzerland)\n",
      "Bormio, Italy\n",
      "response 1  Yes, Marc Girardelli (Luxembourg) won the FIS Alpine Skiing World Championship in 1985 in the Giant Slalom event.\n"
     ]
    }
   ],
   "source": [
    "model = genai.GenerativeModel('gemini-1.0-pro')\n",
    "\n",
    "\n",
    "prompt2 = \"who won FIS Alpine championship in 1985 where was it held\"\n",
    "response2 = model.generate_content(prompt2)\n",
    "prompt1 = \"can you confirm if Marc Girardelli (Luxembourg) won FIS Alpine championship in 1985\"\n",
    "response1 = model.generate_content(prompt1)\n",
    "\n",
    "\n",
    "\n",
    "print(\"response 2 \",response2.text)\n",
    "print(\"response 1 \",response1.text)"
   ]
  },
  {
   "cell_type": "markdown",
   "metadata": {},
   "source": [
    "# Contradictory Prompt"
   ]
  },
  {
   "cell_type": "code",
   "execution_count": 47,
   "metadata": {},
   "outputs": [
    {
     "name": "stdout",
     "output_type": "stream",
     "text": [
      "Luxembourg's Marc Girardelli triumphed in the 1985 FIS Alpine Championship, showcasing his exceptional skiing skills and leaving an indelible mark in the history of the sport. #AlpineChampion #LuxembourgPride\n"
     ]
    }
   ],
   "source": [
    "prompt = \"Marc Girardelli (Luxembourg) won FIS Alpine championship in 1985 write an 30 word tweet about his victory\"\n",
    "response = model.generate_content(prompt)\n",
    "print(response.text)"
   ]
  },
  {
   "cell_type": "markdown",
   "metadata": {},
   "source": [
    "# Common Reasoning"
   ]
  },
  {
   "cell_type": "code",
   "execution_count": 48,
   "metadata": {},
   "outputs": [
    {
     "name": "stdout",
     "output_type": "stream",
     "text": [
      "The provided information states that Marc Girardelli won the World Cup championship from 1985 to 1990 and does not mention anything about him winning the FIS Alpine championship in 1985. So I have nothing to say about whether he won the FIS Alpine championship in 1985.\n"
     ]
    }
   ],
   "source": [
    "prompt = \"if Marc Girardelli (Luxembourg) won World Cup championship from 1985 to 1990 did he win FIS Alpine championship in 1985\"\n",
    "response = model.generate_content(prompt)\n",
    "print(response.text)"
   ]
  },
  {
   "cell_type": "markdown",
   "metadata": {},
   "source": [
    "# External sources"
   ]
  },
  {
   "cell_type": "code",
   "execution_count": 49,
   "metadata": {},
   "outputs": [
    {
     "name": "stdout",
     "output_type": "stream",
     "text": [
      "Yes, Marc Girardelli won the FIS Alpine championship in 1985.\n",
      "\n",
      "**Source:**\n",
      "* [Marc Girardelli](https://en.wikipedia.org/wiki/Marc_Girardelli)\n"
     ]
    }
   ],
   "source": [
    "prompt = \"Search wikipedia to check if Marc Girardelli (Luxembourg)  win FIS Alpine championship in 1985\"\n",
    "response = model.generate_content(prompt)\n",
    "print(response.text)"
   ]
  },
  {
   "cell_type": "code",
   "execution_count": 52,
   "metadata": {},
   "outputs": [
    {
     "name": "stdout",
     "output_type": "stream",
     "text": [
      "**Answer to Question 1**: Bormio, Italy\n",
      "\n",
      "**Answer to Question 2**: Pirmin Zurbriggen (Switzerland)\n",
      "\n",
      "**Confidence Score**: 100%\n"
     ]
    }
   ],
   "source": [
    "prompt = '''\n",
    "**Context**: Skiing Championships\n",
    "**Role**:you are an ardent follower of  FIS Alpine World Ski Championships records answer the following questions\n",
    "**Question**: Which country and city was it held in 1985?\n",
    "**Question**: Who won the championship?\n",
    "** Confidence Score ** provide confidence score in percentage of the answer\n",
    "\n",
    "'''\n",
    "model = genai.GenerativeModel('gemini-1.0-pro')\n",
    "response = model.generate_content(prompt)\n",
    "print(response.text)"
   ]
  },
  {
   "cell_type": "code",
   "execution_count": 53,
   "metadata": {},
   "outputs": [
    {
     "name": "stdout",
     "output_type": "stream",
     "text": [
      "I do not have real-time capabilities and my knowledge cutoff is April 2023. Therefore, I cannot provide you with the current weather in Bangalore.\n",
      "\n",
      "To get the most up-to-date and accurate weather forecast, I recommend checking a reputable weather app or website, such as the India Meteorological Department website or the AccuWeather app.\n"
     ]
    }
   ],
   "source": [
    "prompt = '''\n",
    "What is the weather in Bangalore today?\n",
    "'''\n",
    "model = genai.GenerativeModel('gemini-1.0-pro')\n",
    "response = model.generate_content(prompt)\n",
    "print(response.text)"
   ]
  }
 ],
 "metadata": {
  "kernelspec": {
   "display_name": "venv",
   "language": "python",
   "name": "python3"
  },
  "language_info": {
   "codemirror_mode": {
    "name": "ipython",
    "version": 3
   },
   "file_extension": ".py",
   "mimetype": "text/x-python",
   "name": "python",
   "nbconvert_exporter": "python",
   "pygments_lexer": "ipython3",
   "version": "3.11.9"
  }
 },
 "nbformat": 4,
 "nbformat_minor": 2
}
